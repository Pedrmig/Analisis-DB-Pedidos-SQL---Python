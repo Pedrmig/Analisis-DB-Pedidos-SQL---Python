{
 "cells": [
  {
   "cell_type": "code",
   "execution_count": null,
   "metadata": {},
   "outputs": [],
   "source": [
    "import mysql.connector # !pip install mysql-connector-python \n",
    "from mysql.connector import Error\n",
    "import pandas as pd\n",
    "\n",
    "try: \n",
    "    connection = mysql.connector.connect(host='35.208.82.175', \n",
    "                                         database='dbgsipp7ucsuwy',\n",
    "                                         user='uqsnolewgvge8',\n",
    "                                         password='upgradehub', connection_timeout=180)\n",
    "\n",
    "    if connection.is_connected():\n",
    "        db_Info = connection.get_server_info()\n",
    "        print(\"Connected to MySQL database... MySQL Server version on \", db_Info)\n",
    "\n",
    "        cursor = connection.cursor()\n",
    "        connection.commit()\n",
    "\n",
    "except Error as e:\n",
    "    print(\"Error while connecting to MySQL\", e)\n",
    "finally:\n",
    "    # closing database connection.\n",
    "    if connection.is_connected():\n",
    "        cursor.close()\n",
    "        connection.close()\n",
    "        print(\"MySQL connection is closed\")"
   ]
  },
  {
   "cell_type": "code",
   "execution_count": null,
   "metadata": {},
   "outputs": [],
   "source": [
    "connection = mysql.connector.connect(host='35.208.82.175', database='dbgsipp7ucsuwy', user='uqsnolewgvge8', password='upgradehub', connection_timeout=180000)\n",
    "cursor=connection.cursor()\n",
    "query1 = \"\"\" SELECT * FROM PRODUCTO; \"\"\"\n",
    "cursor.execute(query1)\n",
    "cursor.fetchall()\n",
    "df1 = pd.read_sql(query1, connection)\n",
    "# df1.to_csv('producto.csv', index=False)"
   ]
  },
  {
   "cell_type": "code",
   "execution_count": null,
   "metadata": {},
   "outputs": [],
   "source": [
    "connection = mysql.connector.connect(host='35.208.82.175', database='dbgsipp7ucsuwy', user='uqsnolewgvge8', password='upgradehub', connection_timeout=180000)\n",
    "cursor=connection.cursor()\n",
    "query2 = \"\"\" SELECT NOMBRE FROM EMPLEADO; \"\"\"\n",
    "cursor.execute(query2)\n",
    "cursor.fetchall()\n",
    "df2 = pd.read_sql(query2, connection)\n",
    "# df2.to_csv('NombreEmpleados.csv', index=False)"
   ]
  },
  {
   "cell_type": "code",
   "execution_count": null,
   "metadata": {},
   "outputs": [],
   "source": [
    "connection = mysql.connector.connect(host='35.208.82.175', database='dbgsipp7ucsuwy', user='uqsnolewgvge8', password='upgradehub', connection_timeout=180000)\n",
    "cursor=connection.cursor()\n",
    "query3 = \"\"\" SELECT COUNT(NUMERO) as 'Numero Pedidos' FROM PEDIDO; \"\"\"\n",
    "cursor.execute(query3)\n",
    "cursor.fetchall()\n",
    "df3 = pd.read_sql(query3, connection)\n",
    "# df3.to_csv('NumeroPedidos.csv', index=False)"
   ]
  },
  {
   "cell_type": "code",
   "execution_count": null,
   "metadata": {},
   "outputs": [],
   "source": [
    "connection = mysql.connector.connect(host='35.208.82.175', database='dbgsipp7ucsuwy', user='uqsnolewgvge8', password='upgradehub', connection_timeout=180000)\n",
    "cursor=connection.cursor()\n",
    "query4 = \"\"\" SELECT NOMBRE FROM REPARTIDOR WHERE TURNO = 'TARDE'; \"\"\"\n",
    "cursor.execute(query4)\n",
    "cursor.fetchall()\n",
    "df4= pd.read_sql(query4, connection)\n",
    "# df4.to_csv('RepartidorTurnoTarde.csv', index=False)"
   ]
  },
  {
   "cell_type": "code",
   "execution_count": null,
   "metadata": {},
   "outputs": [],
   "source": [
    "connection = mysql.connector.connect(host='35.208.82.175', database='dbgsipp7ucsuwy', user='uqsnolewgvge8', password='upgradehub', connection_timeout=180000)\n",
    "cursor=connection.cursor()\n",
    "query5 = \"\"\" SELECT MAX(PRECIO) FROM PRODUCTO; \"\"\"\n",
    "cursor.execute(query5)\n",
    "cursor.fetchall()\n",
    "df5 = pd.read_sql(query5, connection)\n",
    "# df5.to_csv('MAXPRECIOPRODUCTO.csv', index=False)"
   ]
  },
  {
   "cell_type": "code",
   "execution_count": null,
   "metadata": {},
   "outputs": [],
   "source": [
    "connection = mysql.connector.connect(host='35.208.82.175', database='dbgsipp7ucsuwy', user='uqsnolewgvge8', password='upgradehub', connection_timeout=180000)\n",
    "cursor=connection.cursor()\n",
    "query6 = \"\"\" SELECT * FROM PEDIDO WHERE IMPORTE >100; \"\"\"\n",
    "cursor.execute(query6)\n",
    "cursor.fetchall()\n",
    "df6 = pd.read_sql(query6, connection)\n",
    "# df6.to_csv('PEDIDOSMAYOR100.csv', index=False)"
   ]
  },
  {
   "cell_type": "code",
   "execution_count": null,
   "metadata": {},
   "outputs": [],
   "source": [
    "connection = mysql.connector.connect(host='35.208.82.175', database='dbgsipp7ucsuwy', user='uqsnolewgvge8', password='upgradehub', connection_timeout=180000)\n",
    "cursor=connection.cursor()\n",
    "query7 = \"\"\" SELECT * FROM EMPLEADO WHERE SALARIO > (SELECT AVG(SALARIO) FROM EMPLEADO); \"\"\"\n",
    "cursor.execute(query7)\n",
    "cursor.fetchall()\n",
    "df7 = pd.read_sql(query7, connection)\n",
    "# df7.to_csv('EmpleadosMayorSalario.csv', index=False)"
   ]
  },
  {
   "cell_type": "code",
   "execution_count": null,
   "metadata": {},
   "outputs": [],
   "source": [
    "connection = mysql.connector.connect(host='35.208.82.175', database='dbgsipp7ucsuwy', user='uqsnolewgvge8', password='upgradehub', connection_timeout=180000)\n",
    "cursor=connection.cursor()\n",
    "query7a = \"\"\" SELECT AVG(SALARIO) as 'Salario Promedio' FROM EMPLEADO; \"\"\"\n",
    "cursor.execute(query7a)\n",
    "cursor.fetchall()\n",
    "df7a = pd.read_sql(query7a, connection)\n",
    "# df7a.to_csv('AVGSalario.csv', index=False)"
   ]
  },
  {
   "cell_type": "code",
   "execution_count": null,
   "metadata": {},
   "outputs": [],
   "source": [
    "connection = mysql.connector.connect(host='35.208.82.175', database='dbgsipp7ucsuwy', user='uqsnolewgvge8', password='upgradehub', connection_timeout=180000)\n",
    "cursor=connection.cursor()\n",
    "query8 = \"\"\" SELECT DISTINCT(NOMBRE) FROM PRODUCTO; \"\"\"\n",
    "cursor.execute(query8)\n",
    "cursor.fetchall()\n",
    "df8 = pd.read_sql(query8, connection)\n",
    "# df8.to_csv('ListaNoDuplicados.csv', index=False)"
   ]
  },
  {
   "cell_type": "code",
   "execution_count": null,
   "metadata": {},
   "outputs": [],
   "source": [
    "connection = mysql.connector.connect(host='35.208.82.175', database='dbgsipp7ucsuwy', user='uqsnolewgvge8', password='upgradehub', connection_timeout=180000)\n",
    "cursor=connection.cursor()\n",
    "query9 = \"\"\" SELECT NUMERO,FECHA FROM PEDIDO WHERE FECHA >= DATE_SUB(CURDATE(), INTERVAL 1 MONTH); \"\"\"\n",
    "cursor.execute(query9)\n",
    "cursor.fetchall()\n",
    "df9 = pd.read_sql(query9, connection)\n",
    "# df9.to_csv('PedidosUltimoMes.csv', index=False)"
   ]
  },
  {
   "cell_type": "code",
   "execution_count": null,
   "metadata": {},
   "outputs": [],
   "source": [
    "connection = mysql.connector.connect(host='35.208.82.175', database='dbgsipp7ucsuwy', user='uqsnolewgvge8', password='upgradehub', connection_timeout=180000)\n",
    "cursor=connection.cursor()\n",
    "query10 = \"\"\" SELECT * FROM EMPLEADO WHERE SALARIO = (SELECT MIN(SALARIO) FROM EMPLEADO); \"\"\"\n",
    "cursor.execute(query10)\n",
    "cursor.fetchall()\n",
    "df10 = pd.read_sql(query10, connection)\n",
    "# df10.to_csv('SalMasBajo.csv', index=False)"
   ]
  },
  {
   "cell_type": "code",
   "execution_count": null,
   "metadata": {},
   "outputs": [],
   "source": [
    "connection = mysql.connector.connect(host='35.208.82.175', database='dbgsipp7ucsuwy', user='uqsnolewgvge8', password='upgradehub', connection_timeout=180000)\n",
    "cursor=connection.cursor()\n",
    "query11 = \"\"\"SELECT p.nombre, c.Codigo_P_compuesto as component From PRODUCTO p Left Join esta_compuesto c ON p.Codigo = c.codigo_P; \"\"\"\n",
    "cursor.execute(query11)\n",
    "cursor.fetchall()\n",
    "df11 = pd.read_sql(query11, connection)\n",
    "# df11.to_csv('productosycomponentes.csv', index=False)"
   ]
  },
  {
   "cell_type": "code",
   "execution_count": null,
   "metadata": {},
   "outputs": [],
   "source": [
    "connection = mysql.connector.connect(host='35.208.82.175', database='dbgsipp7ucsuwy', user='uqsnolewgvge8', password='upgradehub', connection_timeout=180000)\n",
    "cursor=connection.cursor()\n",
    "query12 = \"\"\" SELECT SUM(Importe) FROM PEDIDO; \"\"\"\n",
    "cursor.execute(query12)\n",
    "cursor.fetchall()\n",
    "df12 = pd.read_sql(query12, connection)\n",
    "# df12.to_csv('ImporteTotalPedidos.csv', index=False)"
   ]
  },
  {
   "cell_type": "code",
   "execution_count": null,
   "metadata": {},
   "outputs": [],
   "source": [
    "connection = mysql.connector.connect(host='35.208.82.175', database='dbgsipp7ucsuwy', user='uqsnolewgvge8', password='upgradehub', connection_timeout=180000)\n",
    "cursor=connection.cursor()\n",
    "query13 = \"\"\"SELECT * FROM EMPLEADO WHERE DNI NOT IN (SELECT DNI FROM REPARTIDOR);\"\"\"\n",
    "cursor.execute(query13)\n",
    "cursor.fetchall()\n",
    "df13 = pd.read_sql(query13, connection)\n",
    "# df13.to_csv('EmpleadosNoRepartidores.csv', index=False)"
   ]
  },
  {
   "cell_type": "code",
   "execution_count": null,
   "metadata": {},
   "outputs": [],
   "source": [
    "connection = mysql.connector.connect(host='35.208.82.175', database='dbgsipp7ucsuwy', user='uqsnolewgvge8', password='upgradehub', connection_timeout=180000)\n",
    "cursor=connection.cursor()\n",
    "query14 = \"\"\"SELECT PEDIDO.numero, PEDIDO.Fecha, PEDIDO.Importe, EMPLEADO.Nombre FROM PEDIDO JOIN EMPLEADO ON PEDIDO.DNI_ETM = EMPLEADO.DNI;\"\"\"\n",
    "cursor.execute(query14)\n",
    "cursor.fetchall()\n",
    "df14 = pd.read_sql(query14, connection)\n",
    "# df14.to_csv('Pedidos&Empleadoquetomou.csv', index=False)"
   ]
  },
  {
   "cell_type": "code",
   "execution_count": null,
   "metadata": {},
   "outputs": [],
   "source": [
    "connection = mysql.connector.connect(host='35.208.82.175', database='dbgsipp7ucsuwy', user='uqsnolewgvge8', password='upgradehub', connection_timeout=180000)\n",
    "cursor=connection.cursor()\n",
    "query15 = \"\"\"SELECT Numero_P as 'Numero do Pedido', SUM(Cantidad) as ' Cantidad Produtos' FROM consta group by Numero_P;\"\"\"\n",
    "cursor.execute(query15)\n",
    "cursor.fetchall()\n",
    "df15 = pd.read_sql(query15, connection)\n",
    "# df15.to_csv('cantidadProdutosPedido.csv', index=False)"
   ]
  },
  {
   "cell_type": "code",
   "execution_count": null,
   "metadata": {},
   "outputs": [],
   "source": [
    "connection = mysql.connector.connect(host='35.208.82.175', database='dbgsipp7ucsuwy', user='uqsnolewgvge8', password='upgradehub', connection_timeout=180000)\n",
    "cursor=connection.cursor()\n",
    "query16 = \"\"\"SELECT PEDIDO.Importe, REPARTIDOR.Nombre FROM PEDIDO JOIN REPARTIDOR ON PEDIDO.DNI_R = REPARTIDOR.DNI;\"\"\"\n",
    "cursor.execute(query16)\n",
    "cursor.fetchall()\n",
    "df16 = pd.read_sql(query16, connection)\n",
    "# df16.to_csv('repartidor$Importe.csv', index=False)"
   ]
  },
  {
   "cell_type": "code",
   "execution_count": null,
   "metadata": {},
   "outputs": [],
   "source": [
    "connection = mysql.connector.connect(host='35.208.82.175', database='dbgsipp7ucsuwy', user='uqsnolewgvge8', password='upgradehub', connection_timeout=180000)\n",
    "cursor=connection.cursor()\n",
    "query17 = \"\"\"SELECT NUMERO as 'Numero do Pedido', Hora_tm as 'Hora Tomado', Hora_pre as 'Hora de Preparo' FROM PEDIDO;\"\"\"\n",
    "cursor.execute(query17)\n",
    "cursor.fetchall()\n",
    "df17 = pd.read_sql(query17, connection)\n",
    "# df17.to_csv('horapedidoxpreparo.csv', index=False)"
   ]
  },
  {
   "cell_type": "code",
   "execution_count": null,
   "metadata": {},
   "outputs": [],
   "source": [
    "connection = mysql.connector.connect(host='35.208.82.175', database='dbgsipp7ucsuwy', user='uqsnolewgvge8', password='upgradehub', connection_timeout=180000)\n",
    "cursor=connection.cursor()\n",
    "query18 = \"\"\"SELECT sum(Incentivo) FROM REPARTIDOR;\"\"\"\n",
    "cursor.execute(query18)\n",
    "cursor.fetchall()\n",
    "df18 = pd.read_sql(query18, connection)\n",
    "# df18.to_csv('totalincentivosrepartidores.csv', index=False)"
   ]
  },
  {
   "cell_type": "code",
   "execution_count": null,
   "metadata": {},
   "outputs": [],
   "source": [
    "connection = mysql.connector.connect(host='35.208.82.175', database='dbgsipp7ucsuwy', user='uqsnolewgvge8', password='upgradehub', connection_timeout=180000)\n",
    "cursor=connection.cursor()\n",
    "query19 = \"\"\"SELECT e.nombre, COUNT(p.DNI_ETM) as total_pedidos FROM EMPLEADO e LEFT JOIN PEDIDO p ON e.DNI = p.DNI_ETM GROUP BY e.nombre HAVING COUNT(p.DNI_ETM) > 5;\"\"\"\n",
    "cursor.execute(query19)\n",
    "cursor.fetchall()\n",
    "df19 = pd.read_sql(query19, connection)\n",
    "# df19.to_csv('empleadosmaisde5pedidos.csv', index=False)"
   ]
  },
  {
   "cell_type": "code",
   "execution_count": null,
   "metadata": {},
   "outputs": [],
   "source": [
    "connection = mysql.connector.connect(host='35.208.82.175', database='dbgsipp7ucsuwy', user='uqsnolewgvge8', password='upgradehub', connection_timeout=180000)\n",
    "cursor=connection.cursor()\n",
    "query20 = \"\"\"SELECT PEDIDO.numero, PEDIDO.Fecha, PEDIDO.Importe, EMPLEADO.Nombre FROM PEDIDO JOIN EMPLEADO ON PEDIDO.DNI_EP = EMPLEADO.DNI;\"\"\"\n",
    "cursor.execute(query20)\n",
    "cursor.fetchall()\n",
    "df20 = pd.read_sql(query20, connection)\n",
    "# df20.to_csv('pedidosxempleadopreparo.csv', index=False)"
   ]
  },
  {
   "cell_type": "code",
   "execution_count": null,
   "metadata": {},
   "outputs": [],
   "source": [
    "connection = mysql.connector.connect(host='35.208.82.175', database='dbgsipp7ucsuwy', user='uqsnolewgvge8', password='upgradehub', connection_timeout=180000)\n",
    "cursor=connection.cursor()\n",
    "query21 = \"\"\"SELECT * FROM PRODUCTO WHERE PRECIO > (SELECT avg(PRECIO) FROM PRODUCTO);\"\"\"\n",
    "cursor.execute(query21)\n",
    "cursor.fetchall()\n",
    "df21 = pd.read_sql(query21, connection)\n",
    "# df21.to_csv('mayorquepromedio.csv', index=False)"
   ]
  },
  {
   "cell_type": "code",
   "execution_count": null,
   "metadata": {},
   "outputs": [],
   "source": [
    "connection = mysql.connector.connect(host='35.208.82.175', database='dbgsipp7ucsuwy', user='uqsnolewgvge8', password='upgradehub', connection_timeout=180000)\n",
    "cursor=connection.cursor()\n",
    "query22 = \"\"\"SELECT * FROM (SELECT nombre, turno FROM EMPLEADO UNION ALL SELECT nombre, turno FROM REPARTIDOR) AS unioned ORDER BY turno, nombre;\"\"\"\n",
    "cursor.execute(query22)\n",
    "cursor.fetchall()\n",
    "df22 = pd.read_sql(query22, connection)\n",
    "# df22.to_csv('empleados&repartidoresporturno.csv', index=False)"
   ]
  },
  {
   "cell_type": "code",
   "execution_count": null,
   "metadata": {},
   "outputs": [],
   "source": [
    "connection = mysql.connector.connect(host='35.208.82.175', database='dbgsipp7ucsuwy', user='uqsnolewgvge8', password='upgradehub', connection_timeout=180000)\n",
    "cursor=connection.cursor()\n",
    "query23 = \"\"\"SELECT PEDIDO.numero, EMPLEADO.Nombre as 'Nombre del Empleado', REPARTIDOR.Nombre as 'Nombre del Repartidor' FROM PEDIDO JOIN EMPLEADO ON PEDIDO.DNI_EP = EMPLEADO.DNI JOIN REPARTIDOR ON PEDIDO.DNI_R = REPARTIDOR.DNI;\"\"\"\n",
    "cursor.execute(query23)\n",
    "cursor.fetchall()\n",
    "df23 = pd.read_sql(query23, connection)\n",
    "# df23.to_csv('pedidosporempleado.csv', index=False)"
   ]
  },
  {
   "cell_type": "code",
   "execution_count": null,
   "metadata": {},
   "outputs": [],
   "source": [
    "connection = mysql.connector.connect(host='35.208.82.175', database='dbgsipp7ucsuwy', user='uqsnolewgvge8', password='upgradehub', connection_timeout=180000)\n",
    "cursor=connection.cursor()\n",
    "query24 = \"\"\"SELECT UPPER(Nombre) FROM PRODUCTO;\"\"\"\n",
    "cursor.execute(query24)\n",
    "cursor.fetchall()\n",
    "df24 = pd.read_sql(query24, connection)\n",
    "# df24.to_csv('nombremaiuscula.csv', index=False)"
   ]
  },
  {
   "cell_type": "code",
   "execution_count": null,
   "metadata": {},
   "outputs": [],
   "source": [
    "connection = mysql.connector.connect(host='35.208.82.175', database='dbgsipp7ucsuwy', user='uqsnolewgvge8', password='upgradehub', connection_timeout=180000)\n",
    "cursor=connection.cursor()\n",
    "query25 = \"\"\"SELECT a.Nombre, COUNT(b.DNI_R) as 'Quantidade', SUM(b.Importe) as 'Importe Total' FROM REPARTIDOR a JOIN PEDIDO b ON a.DNI = b.DNI_R group by a.Nombre;\"\"\"\n",
    "cursor.execute(query25)\n",
    "cursor.fetchall()\n",
    "df25 = pd.read_sql(query25, connection)\n",
    "# df25.to_csv('pedidos&importerepartidor.csv', index=False)"
   ]
  },
  {
   "cell_type": "code",
   "execution_count": null,
   "metadata": {},
   "outputs": [],
   "source": [
    "connection = mysql.connector.connect(host='35.208.82.175', database='dbgsipp7ucsuwy', user='uqsnolewgvge8', password='upgradehub', connection_timeout=180000)\n",
    "cursor=connection.cursor()\n",
    "query26 = \"\"\"SELECT * FROM PEDIDO WHERE year(Fecha) = 2023;\"\"\"\n",
    "cursor.execute(query26)\n",
    "cursor.fetchall()\n",
    "df26 = pd.read_sql(query26, connection)\n",
    "# df26.to_csv('pedidos2023.csv', index=False)"
   ]
  },
  {
   "cell_type": "code",
   "execution_count": null,
   "metadata": {},
   "outputs": [],
   "source": [
    "connection = mysql.connector.connect(host='35.208.82.175', database='dbgsipp7ucsuwy', user='uqsnolewgvge8', password='upgradehub', connection_timeout=180000)\n",
    "cursor=connection.cursor()\n",
    "query27 = \"\"\"SELECT Nombre, DNI FROM REPARTIDOR WHERE DNI IN (SELECT DNI_R FROM PEDIDO Where Fecha >= (DATE_SUB(CURDATE(), INTERVAL 1 WEEK)));\"\"\"\n",
    "cursor.execute(query27)\n",
    "cursor.fetchall()\n",
    "df27 = pd.read_sql(query27, connection)\n",
    "# df27.to_csv('repartidorpedidossemana.csv', index=False)"
   ]
  },
  {
   "cell_type": "code",
   "execution_count": null,
   "metadata": {},
   "outputs": [],
   "source": [
    "connection = mysql.connector.connect(host='35.208.82.175', database='dbgsipp7ucsuwy', user='uqsnolewgvge8', password='upgradehub', connection_timeout=180000)\n",
    "cursor=connection.cursor()\n",
    "query28 = \"\"\"SELECT Numero, Fecha - curdate() FROM PEDIDO;\"\"\"\n",
    "cursor.execute(query28)\n",
    "cursor.fetchall()\n",
    "df28 = pd.read_sql(query28, connection)\n",
    "# df28.to_csv('diasdopedido.csv', index=False)"
   ]
  },
  {
   "cell_type": "code",
   "execution_count": null,
   "metadata": {},
   "outputs": [],
   "source": [
    "connection = mysql.connector.connect(host='35.208.82.175', database='dbgsipp7ucsuwy', user='uqsnolewgvge8', password='upgradehub', connection_timeout=180000)\n",
    "cursor=connection.cursor()\n",
    "query29 = \"\"\"SELECT * FROM EMPLEADO WHERE Turno = 'mañana' and Salario > '2000';\"\"\"\n",
    "cursor.execute(query29)\n",
    "cursor.fetchall()\n",
    "df29 = pd.read_sql(query29, connection)\n",
    "# df29.to_csv('salarios&turno.csv', index=False)"
   ]
  },
  {
   "cell_type": "code",
   "execution_count": null,
   "metadata": {},
   "outputs": [],
   "source": [
    "connection = mysql.connector.connect(host='35.208.82.175', database='dbgsipp7ucsuwy', user='uqsnolewgvge8', password='upgradehub', connection_timeout=180000)\n",
    "cursor=connection.cursor()\n",
    "query30 = \"\"\"SELECT Nombre as 'Nombre', Precio *1.1 as 'Precio con 10% más' FROM PRODUCTO;\"\"\"\n",
    "cursor.execute(query30)\n",
    "cursor.fetchall()\n",
    "df30 = pd.read_sql(query30, connection)\n",
    "# df30.to_csv('productosmas10porciento.csv', index=False)"
   ]
  },
  {
   "cell_type": "code",
   "execution_count": null,
   "metadata": {},
   "outputs": [],
   "source": [
    "connection = mysql.connector.connect(host='35.208.82.175', database='dbgsipp7ucsuwy', user='uqsnolewgvge8', password='upgradehub', connection_timeout=180000)\n",
    "cursor=connection.cursor()\n",
    "query31 = \"\"\"SELECT * FROM PEDIDO WHERE Importe = (SELECT MAX(Importe) FROM PEDIDO);\"\"\"\n",
    "cursor.execute(query31)\n",
    "cursor.fetchall()\n",
    "df31 = pd.read_sql(query31, connection)\n",
    "# df31.to_csv('mayorimporte.csv', index=False)"
   ]
  },
  {
   "cell_type": "code",
   "execution_count": null,
   "metadata": {},
   "outputs": [],
   "source": [
    "connection = mysql.connector.connect(host='35.208.82.175', database='dbgsipp7ucsuwy', user='uqsnolewgvge8', password='upgradehub', connection_timeout=180000)\n",
    "cursor=connection.cursor()\n",
    "query32 = \"\"\"SELECT Nombre, DNI FROM EMPLEADO where DNI not in (SELECT DNI_ETM FROM PEDIDO);\"\"\"\n",
    "cursor.execute(query32)\n",
    "cursor.fetchall()\n",
    "df32 = pd.read_sql(query32, connection)\n",
    "# df32.to_csv('empleadossinpedidos.csv', index=False)"
   ]
  },
  {
   "cell_type": "code",
   "execution_count": null,
   "metadata": {},
   "outputs": [],
   "source": [
    "connection = mysql.connector.connect(host='35.208.82.175', database='dbgsipp7ucsuwy', user='uqsnolewgvge8', password='upgradehub', connection_timeout=180000)\n",
    "cursor=connection.cursor()\n",
    "query33 = \"\"\"SELECT b.Nombre, a.Fecha  FROM REPARTIDOR b JOIN PEDIDO a ON a.Hora_rep > '20:00:00';\"\"\"\n",
    "cursor.execute(query33)\n",
    "cursor.fetchall()\n",
    "df33 = pd.read_sql(query33, connection)\n",
    "# df33.to_csv('entreganocturna.csv', index=False)"
   ]
  },
  {
   "cell_type": "code",
   "execution_count": null,
   "metadata": {},
   "outputs": [],
   "source": [
    "connection = mysql.connector.connect(host='35.208.82.175', database='dbgsipp7ucsuwy', user='uqsnolewgvge8', password='upgradehub', connection_timeout=180000)\n",
    "cursor=connection.cursor()\n",
    "query34 = \"\"\"SELECT Nombre, Precio FROM PRODUCTO WHERE Precio = (SELECT MAX(Precio) FROM PRODUCTO);\"\"\"\n",
    "cursor.execute(query34)\n",
    "cursor.fetchall()\n",
    "df34 = pd.read_sql(query34, connection)\n",
    "# df34.to_csv('productomascaroprecio.csv', index=False)"
   ]
  },
  {
   "cell_type": "code",
   "execution_count": null,
   "metadata": {},
   "outputs": [],
   "source": [
    "connection = mysql.connector.connect(host='35.208.82.175', database='dbgsipp7ucsuwy', user='uqsnolewgvge8', password='upgradehub', connection_timeout=180000)\n",
    "cursor=connection.cursor()\n",
    "query35 = \"\"\"SELECT a.Nombre, SUM(b.Importe) FROM EMPLEADO a JOIN PEDIDO b ON a.DNI = b.DNI_ETM group by a.Nombre; \"\"\"\n",
    "cursor.execute(query35)\n",
    "cursor.fetchall()\n",
    "df35 = pd.read_sql(query35, connection)\n",
    "# df35.to_csv('empleadosimportestotais.csv', index=False)"
   ]
  }
 ],
 "metadata": {
  "kernelspec": {
   "display_name": "Python 3",
   "language": "python",
   "name": "python3"
  },
  "language_info": {
   "codemirror_mode": {
    "name": "ipython",
    "version": 3
   },
   "file_extension": ".py",
   "mimetype": "text/x-python",
   "name": "python",
   "nbconvert_exporter": "python",
   "pygments_lexer": "ipython3",
   "version": "3.11.9"
  }
 },
 "nbformat": 4,
 "nbformat_minor": 2
}
